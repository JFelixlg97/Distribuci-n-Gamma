{
 "cells": [
  {
   "cell_type": "code",
   "execution_count": 44,
   "id": "c3b11b85-80eb-46f0-ab0f-a5baee674bda",
   "metadata": {
    "tags": []
   },
   "outputs": [],
   "source": [
    "import numpy as np\n",
    "import pandas as pd\n",
    "from IPython.display import Image, display\n",
    "\n",
    "# Ruta a la imagen\n",
    "image_path = 'C:/Users/metoceanico/Documents/2024/'\n",
    "\n"
   ]
  },
  {
   "cell_type": "code",
   "execution_count": 2,
   "id": "fc4803d8-6009-43a6-a6e8-c3687741faea",
   "metadata": {
    "tags": []
   },
   "outputs": [],
   "source": [
    "ruta = 'C:/Users/metoceanico/Documents/2024/'"
   ]
  },
  {
   "cell_type": "code",
   "execution_count": 3,
   "id": "cc0093dc-47f7-4ca8-acdc-bed3660a5e7f",
   "metadata": {
    "tags": []
   },
   "outputs": [],
   "source": [
    "data = pd.read_csv(ruta + 'Precipitacion.csv', header=None) #, usecols=['nombres de las columnas a usar'])\n",
    "data.columns=['año','pcp']\n",
    "# data.head"
   ]
  },
  {
   "cell_type": "code",
   "execution_count": 58,
   "id": "78b7bf2f-445e-4cd9-9463-8e97f5bed963",
   "metadata": {
    "tags": []
   },
   "outputs": [
    {
     "data": {
      "text/html": [
       "<div>\n",
       "<style scoped>\n",
       "    .dataframe tbody tr th:only-of-type {\n",
       "        vertical-align: middle;\n",
       "    }\n",
       "\n",
       "    .dataframe tbody tr th {\n",
       "        vertical-align: top;\n",
       "    }\n",
       "\n",
       "    .dataframe thead th {\n",
       "        text-align: right;\n",
       "    }\n",
       "</style>\n",
       "<table border=\"1\" class=\"dataframe\">\n",
       "  <thead>\n",
       "    <tr style=\"text-align: right;\">\n",
       "      <th></th>\n",
       "      <th>0</th>\n",
       "      <th>1</th>\n",
       "      <th>2</th>\n",
       "      <th>3</th>\n",
       "      <th>4</th>\n",
       "      <th>5</th>\n",
       "      <th>6</th>\n",
       "      <th>7</th>\n",
       "      <th>8</th>\n",
       "      <th>9</th>\n",
       "      <th>...</th>\n",
       "      <th>40</th>\n",
       "      <th>41</th>\n",
       "      <th>42</th>\n",
       "      <th>43</th>\n",
       "      <th>44</th>\n",
       "      <th>45</th>\n",
       "      <th>46</th>\n",
       "      <th>47</th>\n",
       "      <th>48</th>\n",
       "      <th>49</th>\n",
       "    </tr>\n",
       "  </thead>\n",
       "  <tbody>\n",
       "    <tr>\n",
       "      <th>año</th>\n",
       "      <td>1973.00</td>\n",
       "      <td>1974.00</td>\n",
       "      <td>1975.00</td>\n",
       "      <td>1976.00</td>\n",
       "      <td>1977.00</td>\n",
       "      <td>1978.00</td>\n",
       "      <td>1979.00</td>\n",
       "      <td>1980.00</td>\n",
       "      <td>1981.00</td>\n",
       "      <td>1982.00</td>\n",
       "      <td>...</td>\n",
       "      <td>2013.00</td>\n",
       "      <td>2014.00</td>\n",
       "      <td>2015.00</td>\n",
       "      <td>2016.00</td>\n",
       "      <td>2017.0</td>\n",
       "      <td>2018.00</td>\n",
       "      <td>2019.00</td>\n",
       "      <td>2020.00</td>\n",
       "      <td>2021.00</td>\n",
       "      <td>2022.0</td>\n",
       "    </tr>\n",
       "    <tr>\n",
       "      <th>pcp</th>\n",
       "      <td>0.45</td>\n",
       "      <td>1.29</td>\n",
       "      <td>3.65</td>\n",
       "      <td>3.66</td>\n",
       "      <td>1.27</td>\n",
       "      <td>0.45</td>\n",
       "      <td>1.46</td>\n",
       "      <td>1.03</td>\n",
       "      <td>1.53</td>\n",
       "      <td>0.54</td>\n",
       "      <td>...</td>\n",
       "      <td>1.84</td>\n",
       "      <td>3.04</td>\n",
       "      <td>1.44</td>\n",
       "      <td>1.69</td>\n",
       "      <td>3.0</td>\n",
       "      <td>6.37</td>\n",
       "      <td>0.52</td>\n",
       "      <td>0.87</td>\n",
       "      <td>1.51</td>\n",
       "      <td>3.0</td>\n",
       "    </tr>\n",
       "  </tbody>\n",
       "</table>\n",
       "<p>2 rows × 50 columns</p>\n",
       "</div>"
      ],
      "text/plain": [
       "          0        1        2        3        4        5        6        7   \\\n",
       "año  1973.00  1974.00  1975.00  1976.00  1977.00  1978.00  1979.00  1980.00   \n",
       "pcp     0.45     1.29     3.65     3.66     1.27     0.45     1.46     1.03   \n",
       "\n",
       "          8        9   ...       40       41       42       43      44  \\\n",
       "año  1981.00  1982.00  ...  2013.00  2014.00  2015.00  2016.00  2017.0   \n",
       "pcp     1.53     0.54  ...     1.84     3.04     1.44     1.69     3.0   \n",
       "\n",
       "          45       46       47       48      49  \n",
       "año  2018.00  2019.00  2020.00  2021.00  2022.0  \n",
       "pcp     6.37     0.52     0.87     1.51     3.0  \n",
       "\n",
       "[2 rows x 50 columns]"
      ]
     },
     "execution_count": 58,
     "metadata": {},
     "output_type": "execute_result"
    }
   ],
   "source": [
    "data.T"
   ]
  },
  {
   "cell_type": "markdown",
   "id": "7f5b8fdb-0313-4293-bd84-35aae65dbbb9",
   "metadata": {},
   "source": [
    "### Calcule el estadístico D definido como:"
   ]
  },
  {
   "cell_type": "code",
   "execution_count": 46,
   "id": "834272ea-8095-4c98-a11b-067094419c22",
   "metadata": {
    "tags": []
   },
   "outputs": [
    {
     "data": {
      "image/png": "[encoded data removed]",
      "text/plain": [
       "<IPython.core.display.Image object>"
      ]
     },
     "metadata": {},
     "output_type": "display_data"
    }
   ],
   "source": [
    "# Mostrar la imagen\n",
    "display(Image(filename=image_path+'D.png'))"
   ]
  },
  {
   "cell_type": "code",
   "execution_count": 54,
   "id": "4eaa8456-a0b7-4104-abd8-d4f8e7028d33",
   "metadata": {
    "tags": []
   },
   "outputs": [
    {
     "data": {
      "text/plain": [
       "0.1648509406526173"
      ]
     },
     "execution_count": 54,
     "metadata": {},
     "output_type": "execute_result"
    }
   ],
   "source": [
    "#calculo mean\n",
    "media_a= data['pcp'].mean()\n",
    "\n",
    "#Calculo de 'D'\n",
    "log_media = np.log(media_a)\n",
    "\n",
    "media_log = np.log(data['pcp']).mean()\n",
    "\n",
    "D = log_media - media_log\n",
    "D"
   ]
  },
  {
   "cell_type": "markdown",
   "id": "efa01ee7-8fce-4a15-a47a-ceb32350997d",
   "metadata": {},
   "source": [
    "### Calculado D, ahora encuentre el parámetro de forma (â) dado por:"
   ]
  },
  {
   "cell_type": "code",
   "execution_count": 47,
   "id": "d84ce87d-9256-4e75-b361-47e074e0d694",
   "metadata": {
    "tags": []
   },
   "outputs": [
    {
     "data": {
      "image/png": "[encoded data removed]",
      "text/plain": [
       "<IPython.core.display.Image object>"
      ]
     },
     "metadata": {},
     "output_type": "display_data"
    }
   ],
   "source": [
    "# Mostrar la imagen\n",
    "display(Image(filename=image_path+'a.png'))"
   ]
  },
  {
   "cell_type": "code",
   "execution_count": 19,
   "id": "e2a552b6-5a97-4b1c-8f03-188c18afb24e",
   "metadata": {
    "tags": []
   },
   "outputs": [
    {
     "data": {
      "text/plain": [
       "3.1914378555081147"
      ]
     },
     "execution_count": 19,
     "metadata": {},
     "output_type": "execute_result"
    }
   ],
   "source": [
    "alpha = (1+ np.sqrt(1+4*D/3))/(4*D)\n",
    "alpha"
   ]
  },
  {
   "cell_type": "markdown",
   "id": "41aea4f9-a451-41c7-b7f0-e6fd02a0a720",
   "metadata": {},
   "source": [
    "### Finalmente, calcule el valor del parámetro de escala b̂ dado por"
   ]
  },
  {
   "cell_type": "code",
   "execution_count": 56,
   "id": "8b45ad92-4ac3-46da-abee-105356907a21",
   "metadata": {
    "tags": []
   },
   "outputs": [
    {
     "data": {
      "image/png": "[encoded data removed]",
      "text/plain": [
       "<IPython.core.display.Image object>"
      ]
     },
     "metadata": {},
     "output_type": "display_data"
    }
   ],
   "source": [
    "# Mostrar la imagen\n",
    "display(Image(filename=image_path+'b.png'))"
   ]
  },
  {
   "cell_type": "code",
   "execution_count": 20,
   "id": "575f714e-3bab-4d19-9391-53f369395a59",
   "metadata": {
    "tags": []
   },
   "outputs": [
    {
     "data": {
      "text/plain": [
       "0.577043979352935"
      ]
     },
     "execution_count": 20,
     "metadata": {},
     "output_type": "execute_result"
    }
   ],
   "source": [
    "b = media_a/alpha\n",
    "b"
   ]
  },
  {
   "cell_type": "code",
   "execution_count": 21,
   "id": "17bc3902-0e52-44ba-8181-a7086c231398",
   "metadata": {
    "tags": []
   },
   "outputs": [
    {
     "data": {
      "text/plain": [
       "(1.8416, 1.8416)"
      ]
     },
     "execution_count": 21,
     "metadata": {},
     "output_type": "execute_result"
    }
   ],
   "source": [
    "alpha * b , media_a"
   ]
  },
  {
   "cell_type": "code",
   "execution_count": null,
   "id": "e8fc31cc-af66-4267-9905-075ba6f2ab02",
   "metadata": {},
   "outputs": [],
   "source": []
  }
 ],
 "metadata": {
  "kernelspec": {
   "display_name": "Python 3 (ipykernel)",
   "language": "python",
   "name": "python3"
  },
  "language_info": {
   "codemirror_mode": {
    "name": "ipython",
    "version": 3
   },
   "file_extension": ".py",
   "mimetype": "text/x-python",
   "name": "python",
   "nbconvert_exporter": "python",
   "pygments_lexer": "ipython3",
   "version": "3.8.17"
  }
 },
 "nbformat": 4,
 "nbformat_minor": 5
}
